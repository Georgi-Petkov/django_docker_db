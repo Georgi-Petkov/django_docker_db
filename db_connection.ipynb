{
 "metadata": {
  "language_info": {
   "codemirror_mode": {
    "name": "ipython",
    "version": 3
   },
   "file_extension": ".py",
   "mimetype": "text/x-python",
   "name": "python",
   "nbconvert_exporter": "python",
   "pygments_lexer": "ipython3",
   "version": "3.8.5"
  },
  "orig_nbformat": 2,
  "kernelspec": {
   "name": "python3",
   "display_name": "Python 3.8.5 64-bit ('base': conda)"
  },
  "interpreter": {
   "hash": "2db41493eb6320704d92800a854be2a54f928619cae475a11d0ba9fb4bc523a6"
  }
 },
 "nbformat": 4,
 "nbformat_minor": 2,
 "cells": [
  {
   "cell_type": "code",
   "execution_count": 50,
   "metadata": {},
   "outputs": [],
   "source": [
    "import numpy as np\n",
    "import pandas as pd\n",
    "import sqlite3 as sl\n",
    "from zipfile import ZipFile, Path"
   ]
  },
  {
   "cell_type": "code",
   "execution_count": 4,
   "metadata": {},
   "outputs": [],
   "source": [
    "# Create connection\n",
    "con = sl.connect('random_quote/db.sqlite3')"
   ]
  },
  {
   "cell_type": "code",
   "execution_count": 5,
   "metadata": {},
   "outputs": [
    {
     "output_type": "stream",
     "name": "stdout",
     "text": [
      "[('django_migrations',), ('sqlite_sequence',), ('auth_group_permissions',), ('auth_user_groups',), ('auth_user_user_permissions',), ('django_admin_log',), ('django_content_type',), ('auth_permission',), ('auth_group',), ('auth_user',), ('django_session',), ('get_quote_quote',)]\n"
     ]
    }
   ],
   "source": [
    "# Get all tables in SQLite DB in order to write SQL queries to obtain the results\n",
    "cursor = con.cursor()\n",
    "cursor.execute(\"SELECT name FROM sqlite_master WHERE type='table';\")\n",
    "    \n",
    "print(cursor.fetchall())  "
   ]
  },
  {
   "cell_type": "code",
   "execution_count": 48,
   "metadata": {},
   "outputs": [
    {
     "output_type": "stream",
     "name": "stdout",
     "text": [
      "[(0, 'Love, and you shall be loved.', 'Ralph Waldo Emerson', 'love', 29), (1, 'The Artist always has the masters in his eyes.', 'Ralph Waldo Emerson', 'ambition, art, artist, eyes, love, master, work', 46), (2, 'Do not go where the path may lead, go instead where there is no path and leave a trail.', 'Ralph Waldo Emerson', 'inspirational, life', 87), (3, 'It is not the length of life, but the depth.', 'Ralph Waldo Emerson', 'life', 44), (4, 'Life is a succession of lessons which must be lived to be understood.', 'Ralph Waldo Emerson', 'life, life-experience', 69)]\n"
     ]
    }
   ],
   "source": [
    "cursor.execute(\"SELECT * FROM get_quote_quote LIMIT 5;\")\n",
    "\n",
    "print(cursor.fetchall())\n"
   ]
  },
  {
   "cell_type": "code",
   "execution_count": 7,
   "metadata": {},
   "outputs": [],
   "source": [
    "# pass in the specific file name \n",
    "# to the open method\n",
    "with ZipFile(\"D:\\\\Dataset\\\\quotes.csv.zip\") as myzip:\n",
    "    data = myzip.open(\"quotes.csv\")\n",
    "\n",
    "#Now, we can read in the data\n",
    "df = pd.read_csv(data,low_memory=False)#, parse_dates=['datetime','date posted'])"
   ]
  },
  {
   "cell_type": "code",
   "execution_count": 8,
   "metadata": {},
   "outputs": [],
   "source": [
    "df['quote_len'] = df.quote.str.len()"
   ]
  },
  {
   "cell_type": "code",
   "execution_count": 9,
   "metadata": {},
   "outputs": [],
   "source": [
    "df_small = df.query('quote_len<80')"
   ]
  },
  {
   "cell_type": "code",
   "execution_count": 10,
   "metadata": {},
   "outputs": [
    {
     "output_type": "execute_result",
     "data": {
      "text/plain": [
       "(139256, 4)"
      ]
     },
     "metadata": {},
     "execution_count": 10
    }
   ],
   "source": [
    "df_small.shape"
   ]
  },
  {
   "cell_type": "code",
   "execution_count": 11,
   "metadata": {},
   "outputs": [],
   "source": [
    "quotes_rwe = df[(df.author.isin(['Ralph Waldo Emerson']))&(df.quote_len<100)]"
   ]
  },
  {
   "cell_type": "code",
   "execution_count": 34,
   "metadata": {},
   "outputs": [
    {
     "output_type": "execute_result",
     "data": {
      "text/plain": [
       "                                                 quote               author  \\\n",
       "0                        Love, and you shall be loved.  Ralph Waldo Emerson   \n",
       "1       The Artist always has the masters in his eyes.  Ralph Waldo Emerson   \n",
       "2    Do not go where the path may lead, go instead ...  Ralph Waldo Emerson   \n",
       "3         It is not the length of life, but the depth.  Ralph Waldo Emerson   \n",
       "4    Life is a succession of lessons which must be ...  Ralph Waldo Emerson   \n",
       "..                                                 ...                  ...   \n",
       "540  Nothing astonishes men so much as common sense...  Ralph Waldo Emerson   \n",
       "541  Every actual State is corrupt. Good men must n...  Ralph Waldo Emerson   \n",
       "542  No change of circumstances can repair a defect...  Ralph Waldo Emerson   \n",
       "543  Win as if you were used to it, lose as if you ...  Ralph Waldo Emerson   \n",
       "544  The desire of gold is not for gold. It is for ...  Ralph Waldo Emerson   \n",
       "\n",
       "                                            category  quote_len   id  \n",
       "0                                               love       29.0    0  \n",
       "1    ambition, art, artist, eyes, love, master, work       46.0    1  \n",
       "2                                inspirational, life       87.0    2  \n",
       "3                                               life       44.0    3  \n",
       "4                              life, life-experience       69.0    4  \n",
       "..                                               ...        ...  ...  \n",
       "540                           Common Sense, Dealing        65.0  540  \n",
       "541                            Good, Laws, Good Men        68.0  541  \n",
       "542                        Character, Circumstances        60.0  542  \n",
       "543                                  Win, You, Lose        70.0  543  \n",
       "544                           Gold, Desire, Benefit        79.0  544  \n",
       "\n",
       "[545 rows x 5 columns]"
      ],
      "text/html": "<div>\n<style scoped>\n    .dataframe tbody tr th:only-of-type {\n        vertical-align: middle;\n    }\n\n    .dataframe tbody tr th {\n        vertical-align: top;\n    }\n\n    .dataframe thead th {\n        text-align: right;\n    }\n</style>\n<table border=\"1\" class=\"dataframe\">\n  <thead>\n    <tr style=\"text-align: right;\">\n      <th></th>\n      <th>quote</th>\n      <th>author</th>\n      <th>category</th>\n      <th>quote_len</th>\n      <th>id</th>\n    </tr>\n  </thead>\n  <tbody>\n    <tr>\n      <th>0</th>\n      <td>Love, and you shall be loved.</td>\n      <td>Ralph Waldo Emerson</td>\n      <td>love</td>\n      <td>29.0</td>\n      <td>0</td>\n    </tr>\n    <tr>\n      <th>1</th>\n      <td>The Artist always has the masters in his eyes.</td>\n      <td>Ralph Waldo Emerson</td>\n      <td>ambition, art, artist, eyes, love, master, work</td>\n      <td>46.0</td>\n      <td>1</td>\n    </tr>\n    <tr>\n      <th>2</th>\n      <td>Do not go where the path may lead, go instead ...</td>\n      <td>Ralph Waldo Emerson</td>\n      <td>inspirational, life</td>\n      <td>87.0</td>\n      <td>2</td>\n    </tr>\n    <tr>\n      <th>3</th>\n      <td>It is not the length of life, but the depth.</td>\n      <td>Ralph Waldo Emerson</td>\n      <td>life</td>\n      <td>44.0</td>\n      <td>3</td>\n    </tr>\n    <tr>\n      <th>4</th>\n      <td>Life is a succession of lessons which must be ...</td>\n      <td>Ralph Waldo Emerson</td>\n      <td>life, life-experience</td>\n      <td>69.0</td>\n      <td>4</td>\n    </tr>\n    <tr>\n      <th>...</th>\n      <td>...</td>\n      <td>...</td>\n      <td>...</td>\n      <td>...</td>\n      <td>...</td>\n    </tr>\n    <tr>\n      <th>540</th>\n      <td>Nothing astonishes men so much as common sense...</td>\n      <td>Ralph Waldo Emerson</td>\n      <td>Common Sense, Dealing</td>\n      <td>65.0</td>\n      <td>540</td>\n    </tr>\n    <tr>\n      <th>541</th>\n      <td>Every actual State is corrupt. Good men must n...</td>\n      <td>Ralph Waldo Emerson</td>\n      <td>Good, Laws, Good Men</td>\n      <td>68.0</td>\n      <td>541</td>\n    </tr>\n    <tr>\n      <th>542</th>\n      <td>No change of circumstances can repair a defect...</td>\n      <td>Ralph Waldo Emerson</td>\n      <td>Character, Circumstances</td>\n      <td>60.0</td>\n      <td>542</td>\n    </tr>\n    <tr>\n      <th>543</th>\n      <td>Win as if you were used to it, lose as if you ...</td>\n      <td>Ralph Waldo Emerson</td>\n      <td>Win, You, Lose</td>\n      <td>70.0</td>\n      <td>543</td>\n    </tr>\n    <tr>\n      <th>544</th>\n      <td>The desire of gold is not for gold. It is for ...</td>\n      <td>Ralph Waldo Emerson</td>\n      <td>Gold, Desire, Benefit</td>\n      <td>79.0</td>\n      <td>544</td>\n    </tr>\n  </tbody>\n</table>\n<p>545 rows × 5 columns</p>\n</div>"
     },
     "metadata": {},
     "execution_count": 34
    }
   ],
   "source": [
    "quotes_rwe.assign(id=pd.RangeIndex(len(quotes_rwe.index))).reset_index(drop=True)"
   ]
  },
  {
   "cell_type": "code",
   "execution_count": 47,
   "metadata": {},
   "outputs": [],
   "source": [
    "# Upload table to db.sqlite3\n",
    "\n",
    "quotes_rwe.assign(id=pd.RangeIndex(len(quotes_rwe.index))).reset_index(drop=True)[['id','quote','author','category','quote_len']].to_sql('get_quote_quote',con, if_exists='append',index=False)"
   ]
  },
  {
   "cell_type": "code",
   "execution_count": 26,
   "metadata": {},
   "outputs": [
    {
     "output_type": "execute_result",
     "data": {
      "text/plain": [
       "quote        Love, and you shall be loved.\n",
       "author                 Ralph Waldo Emerson\n",
       "category                              love\n",
       "quote_len                               29\n",
       "Name: 2160, dtype: object"
      ]
     },
     "metadata": {},
     "execution_count": 26
    }
   ],
   "source": [
    "quotes_rwe.iloc[1\n",
    "]"
   ]
  },
  {
   "cell_type": "code",
   "execution_count": 53,
   "metadata": {},
   "outputs": [
    {
     "output_type": "execute_result",
     "data": {
      "text/plain": [
       "410"
      ]
     },
     "metadata": {},
     "execution_count": 53
    }
   ],
   "source": [
    "[np.random.choice(430, 1, replace=False)[0]][0]"
   ]
  },
  {
   "cell_type": "code",
   "execution_count": null,
   "metadata": {},
   "outputs": [],
   "source": []
  }
 ]
}